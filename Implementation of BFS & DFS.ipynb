{
  "nbformat": 4,
  "nbformat_minor": 0,
  "metadata": {
    "colab": {
      "provenance": [],
      "authorship_tag": "ABX9TyMhLoqMNIZ1HGvMVGhbnmT1",
      "include_colab_link": true
    },
    "kernelspec": {
      "name": "python3",
      "display_name": "Python 3"
    },
    "language_info": {
      "name": "python"
    }
  },
  "cells": [
    {
      "cell_type": "markdown",
      "metadata": {
        "id": "view-in-github",
        "colab_type": "text"
      },
      "source": [
        "<a href=\"https://colab.research.google.com/github/rajaad725/Planing-Search-Artificial-Intelligence/blob/main/Implementation%20of%20BFS%20%26%20DFS.ipynb\" target=\"_parent\"><img src=\"https://colab.research.google.com/assets/colab-badge.svg\" alt=\"Open In Colab\"/></a>"
      ]
    },
    {
      "cell_type": "code",
      "execution_count": 1,
      "metadata": {
        "colab": {
          "base_uri": "https://localhost:8080/"
        },
        "id": "ZhzAMp8P4UlV",
        "outputId": "32f93392-1ca5-44f2-9ec3-ece5d171659e"
      },
      "outputs": [
        {
          "output_type": "stream",
          "name": "stdout",
          "text": [
            "BFS Path: [(0, 0), (1, 0), (2, 0), (3, 0), (4, 0), (4, 1), (4, 2), (4, 3), (4, 4)]\n",
            "DFS Path: [(0, 0), (1, 0), (2, 0), (3, 0), (4, 0), (4, 1), (4, 2), (4, 3), (4, 4)]\n"
          ]
        }
      ],
      "source": [
        "# Task 3: Implementing Basic Searching Algorithms\n",
        "\n",
        "# Breadth-First Search (BFS) and Depth-First Search (DFS) Implementation in Python\n",
        "from collections import deque\n",
        "\n",
        "def bfs(maze, start, goal):\n",
        "    queue = deque([start])\n",
        "    visited = set([start])\n",
        "    parent = {start: None}\n",
        "\n",
        "    while queue:\n",
        "        node = queue.popleft()\n",
        "        if node == goal:\n",
        "            path = []\n",
        "            while node:\n",
        "                path.append(node)\n",
        "                node = parent[node]\n",
        "            return path[::-1]  # Reverse path\n",
        "        for neighbor in get_neighbors(maze, node):\n",
        "            if neighbor not in visited:\n",
        "                visited.add(neighbor)\n",
        "                parent[neighbor] = node\n",
        "                queue.append(neighbor)\n",
        "    return None\n",
        "\n",
        "\n",
        "def dfs(maze, start, goal):\n",
        "    stack = [start]\n",
        "    visited = set([start])\n",
        "    parent = {start: None}\n",
        "\n",
        "    while stack:\n",
        "        node = stack.pop()\n",
        "        if node == goal:\n",
        "            path = []\n",
        "            while node:\n",
        "                path.append(node)\n",
        "                node = parent[node]\n",
        "            return path[::-1]  # Reverse path\n",
        "        for neighbor in get_neighbors(maze, node):\n",
        "            if neighbor not in visited:\n",
        "                visited.add(neighbor)\n",
        "                parent[neighbor] = node\n",
        "                stack.append(neighbor)\n",
        "    return None\n",
        "\n",
        "# Helper function to get neighbors in the maze\n",
        "# Assuming maze is a grid represented as a list of lists\n",
        "# 0 represents a path, 1 represents a wall\n",
        "\n",
        "def get_neighbors(maze, node):\n",
        "    x, y = node\n",
        "    directions = [(0, 1), (1, 0), (0, -1), (-1, 0)]  # Right, Down, Left, Up\n",
        "    neighbors = []\n",
        "    for dx, dy in directions:\n",
        "        nx, ny = x + dx, y + dy\n",
        "        if 0 <= nx < len(maze) and 0 <= ny < len(maze[0]) and maze[nx][ny] == 0:\n",
        "            neighbors.append((nx, ny))\n",
        "    return neighbors\n",
        "\n",
        "# Sample Maze for Testing (0: Path, 1: Wall)\n",
        "maze = [\n",
        "    [0, 1, 0, 0, 0],\n",
        "    [0, 1, 0, 1, 0],\n",
        "    [0, 0, 0, 1, 0],\n",
        "    [0, 1, 1, 0, 0],\n",
        "    [0, 0, 0, 0, 0]\n",
        "]\n",
        "\n",
        "start = (0, 0)\n",
        "goal = (4, 4)\n",
        "\n",
        "# Testing BFS and DFS\n",
        "print('BFS Path:', bfs(maze, start, goal))\n",
        "print('DFS Path:', dfs(maze, start, goal))\n",
        "\n",
        "# Report\n",
        "# Breadth-First Search (BFS) explores nodes level by level, ensuring the shortest path in terms of the number of edges.\n",
        "# It uses a queue and visits nodes in the order they are discovered. BFS has a time complexity of O(V + E) and space complexity of O(V), where V is the number of vertices and E is the number of edges.\n",
        "\n",
        "# Depth-First Search (DFS) explores as far down a branch as possible before backtracking. It uses a stack (or recursion) and can be more memory efficient in wide graphs but may get stuck in deep or infinite paths. DFS has a time complexity of O(V + E) and space complexity of O(V) in the worst case.\n",
        "\n",
        "# In small and medium mazes, BFS is more effective due to finding the shortest path. In large mazes or when the solution is deep, DFS can be faster but may not find the shortest path. DFS is suitable when memory is limited or paths are long, whereas BFS is preferred when the shortest path is required."
      ]
    }
  ]
}